{
 "cells": [
  {
   "cell_type": "code",
   "execution_count": null,
   "metadata": {},
   "outputs": [],
   "source": [
    "\n",
    "file_location = \"/FileStore/tables/stations.csv\"\n",
    "file_type = \"csv\"\n",
    "\n",
    "infer_schema = \"false\"\n",
    "first_row_is_header = \"false\"\n",
    "delimiter = \",\"\n",
    "\n",
    "df = spark.read.format(file_type) \\\n",
    "  .option(\"inferSchema\", infer_schema) \\\n",
    "  .option(\"header\", first_row_is_header) \\\n",
    "  .option(\"sep\", delimiter) \\\n",
    "  .load(file_location)\n",
    "\n",
    "df.write.format(\"delta\") \\\n",
    ".save(\"/delta/bronze_stations\")"
   ]
  },
  {
   "cell_type": "code",
   "execution_count": null,
   "metadata": {},
   "outputs": [],
   "source": [
    "\n",
    "df = spark.read.format(\"delta\") \\\n",
    "    .load(\"/delta/bronze_stations\")\n",
    "\n",
    "df.write.format(\"delta\") \\\n",
    "    .mode(\"overwrite\") \\\n",
    "    .saveAsTable(\"silver_stations\")\n",
    "\n",
    "test = spark.sql(\"select * from silver_stations\").show()"
   ]
  },
  {
   "cell_type": "code",
   "execution_count": null,
   "metadata": {},
   "outputs": [],
   "source": [
    "%sql\n",
    "--enabling property to update column name\n",
    "ALTER TABLE silver_stations SET TBLPROPERTIES (\n",
    "    'delta.minReaderVersion' = '2',\n",
    "    'delta.minWriterVersion' = '5',\n",
    "    'delta.columnMapping.mode' = 'name'\n",
    "  )"
   ]
  },
  {
   "cell_type": "code",
   "execution_count": null,
   "metadata": {},
   "outputs": [],
   "source": [
    "%sql\n",
    "--renaming default column names to reflect more descriptive, column names\n",
    "ALTER TABLE silver_stations \n",
    "RENAME COLUMN _c0 TO station_id;\n",
    "\n",
    "ALTER TABLE silver_stations \n",
    "RENAME COLUMN _c1 TO station_name;\n",
    "\n",
    "ALTER TABLE silver_stations \n",
    "RENAME COLUMN _c2 TO latitude;\n",
    "\n",
    "ALTER TABLE silver_stations \n",
    "RENAME COLUMN _c3 TO longitude;"
   ]
  },
  {
   "cell_type": "code",
   "execution_count": null,
   "metadata": {},
   "outputs": [],
   "source": [
    "\n",
    "tripsTbl = spark.table(\"silver_trips\")\n",
    "stnTbl = spark.table(\"silver_stations\")\n",
    "stnTbl2 = spark.table(\"silver_stations\")\n",
    "\n",
    "from pyspark.sql.functions import *\n",
    "dim_stn_df = tripsTbl.join(stnTbl, tripsTbl.start_station_id == stnTbl.station_id,\"inner\") \\\n",
    "    .join(stnTbl2, tripsTbl.end_station_id == stnTbl2.station_id,\"inner\") \\\n",
    "    .select(stnTbl[\"station_id\"].alias(\"station_key\"), stnTbl[\"station_id\"], stnTbl[\"station_name\"], stnTbl[\"latitude\"].alias(\"lat_station_location\"), stnTbl[\"longitude\"].alias(\"long_station_location\"), tripsTbl[\"start_station_id\"], tripsTbl[\"end_station_id\"])\n",
    "                \n",
    "dim_stn_df.show()\n",
    "\n",
    "dim_stn_df.write.format(\"delta\") \\\n",
    "    .mode(\"overwrite\") \\\n",
    "    .saveAsTable(\"dim_stations\")"
   ]
  }
 ],
 "metadata": {
  "kernelspec": {
   "display_name": "Python 3",
   "language": "python",
   "name": "python3"
  },
  "language_info": {
   "codemirror_mode": {
    "name": "ipython",
    "version": 3
   },
   "file_extension": ".py",
   "mimetype": "text/x-python",
   "name": "python",
   "nbconvert_exporter": "python",
   "pygments_lexer": "ipython3",
   "version": "3.8.5"
  }
 },
 "nbformat": 4,
 "nbformat_minor": 4
}
