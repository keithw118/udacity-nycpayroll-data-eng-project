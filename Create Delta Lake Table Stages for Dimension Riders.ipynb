{
 "cells": [
  {
   "cell_type": "code",
   "execution_count": 0,
   "metadata": {
    "application/vnd.databricks.v1+cell": {
     "cellMetadata": {},
     "inputWidgets": {},
     "nuid": "ece3c940-0673-4b5e-a248-62a02dccb0fc",
     "showTitle": false,
     "title": ""
    }
   },
   "outputs": [],
   "source": [
    "\n",
    "file_location = \"/FileStore/tables/riders.csv\"\n",
    "file_type = \"csv\"\n",
    "\n",
    "infer_schema = \"false\"\n",
    "first_row_is_header = \"false\"\n",
    "delimiter = \",\"\n",
    "\n",
    "df = spark.read.format(file_type) \\\n",
    "  .option(\"inferSchema\", infer_schema) \\\n",
    "  .option(\"header\", first_row_is_header) \\\n",
    "  .option(\"sep\", delimiter) \\\n",
    "  .load(file_location)\n",
    "\n",
    "df.write.format(\"delta\") \\\n",
    ".save(\"/delta/bronze_riders\")"
   ]
  },
  {
   "cell_type": "code",
   "execution_count": 0,
   "metadata": {
    "application/vnd.databricks.v1+cell": {
     "cellMetadata": {
      "byteLimit": 2048000,
      "rowLimit": 10000
     },
     "inputWidgets": {},
     "nuid": "f597277e-dc55-4e18-82a7-67da5427c86f",
     "showTitle": false,
     "title": ""
    }
   },
   "outputs": [],
   "source": [
    "\n",
    "df = spark.read.format(\"delta\") \\\n",
    "    .load(\"/delta/bronze_riders\")\n",
    "\n",
    "df.write.format(\"delta\") \\\n",
    "    .mode(\"overwrite\") \\\n",
    "    .saveAsTable(\"silver_riders\")"
   ]
  },
  {
   "cell_type": "code",
   "execution_count": 0,
   "metadata": {
    "application/vnd.databricks.v1+cell": {
     "cellMetadata": {
      "byteLimit": 2048000,
      "rowLimit": 10000
     },
     "inputWidgets": {},
     "nuid": "91c581a9-9aa1-49e3-bae9-3fbd34bde1fc",
     "showTitle": false,
     "title": ""
    },
    "collapsed": true
   },
   "outputs": [
    {
     "name": "stdout",
     "output_type": "stream",
     "text": [
      "+-----+---------+----------+--------------------+----------+----------+----------+-----+\n",
      "|  _c0|      _c1|       _c2|                 _c3|       _c4|       _c5|       _c6|  _c7|\n",
      "+-----+---------+----------+--------------------+----------+----------+----------+-----+\n",
      "|57257|     Mark| Mcfarland|   9928 Hunter Ranch|1982-02-01|2020-12-05|      NULL|False|\n",
      "|57258|     Mark|     Davis|20036 Barrett Sum...|1963-07-28|2017-07-12|      NULL| True|\n",
      "|57259|    Bryan|   Manning|    089 Sarah Square|1984-11-05|2018-08-10|      NULL| True|\n",
      "|57260|  Michele|      Rowe|3157 Nicole Ferry...|1997-09-21|2016-06-03|      NULL| True|\n",
      "|57261|     John|  Mckenzie|   312 Jessica Wells|2002-10-13|2016-02-01|2018-07-01| True|\n",
      "|57262|     Tami|    Rivera|910 Lopez Pass Ap...|2001-06-29|2020-11-12|      NULL| True|\n",
      "|57263|   Joseph|     Hodge|     411 Mccoy Haven|1993-04-30|2020-05-29|      NULL|False|\n",
      "|57264|   Lauren|     Brown|  667 Rodriguez Ramp|2002-10-20|2020-05-10|      NULL|False|\n",
      "|57265|Stephanie|      Reed| 90789 Fowler Circle|1993-03-20|2018-09-05|2019-09-01| True|\n",
      "|57266| Brittney|      Lamb| 55635 Valerie Falls|1993-12-09|2020-10-10|      NULL| True|\n",
      "|57267|Alexander|     Jones|  559 Gutierrez Wall|1967-06-22|2021-02-19|      NULL| True|\n",
      "|57268|    David|    Gordon|3982 Russell Stre...|1997-07-14|2021-04-24|2021-11-01| True|\n",
      "|57269|  Michael|      Reid|190 Ronald Forest...|1965-12-04|2019-12-15|2021-04-01| True|\n",
      "|57270|    Bryan|     Baird|5066 Jessica Isle...|2001-02-28|2020-09-10|      NULL| True|\n",
      "|57271|  Cynthia|Villanueva|      907 Reese Ford|1983-11-26|2021-11-20|      NULL| True|\n",
      "|57272|  Michele|   Baldwin|71710 Stone Commo...|2001-06-09|2021-06-04|2021-06-01| True|\n",
      "|57273|    Kelly|     Drake|      4502 Bond Club|1991-08-30|2021-08-06|      NULL| True|\n",
      "|57274|     Paul|     Bowen|  383 Reynolds Union|1970-05-07|2020-02-21|      NULL| True|\n",
      "|57275|   Andrea| Nicholson|      192 Kim Drives|1980-10-24|2017-06-11|      NULL| True|\n",
      "|57276|   Taylor|    Jacobs|94681 Mcbride Pla...|1988-05-03|2018-05-26|      NULL| True|\n",
      "+-----+---------+----------+--------------------+----------+----------+----------+-----+\n",
      "only showing top 20 rows\n",
      "\n"
     ]
    }
   ],
   "source": [
    "test = spark.sql(\"select * from silver_riders\").show()"
   ]
  },
  {
   "cell_type": "code",
   "execution_count": 0,
   "metadata": {
    "application/vnd.databricks.v1+cell": {
     "cellMetadata": {
      "byteLimit": 2048000,
      "implicitDf": true,
      "rowLimit": 10000
     },
     "inputWidgets": {},
     "nuid": "99dbb589-22d4-4869-b86b-fa15f73cbb0a",
     "showTitle": false,
     "title": ""
    }
   },
   "outputs": [
    {
     "data": {
      "text/html": [
       "<style scoped>\n",
       "  .table-result-container {\n",
       "    max-height: 300px;\n",
       "    overflow: auto;\n",
       "  }\n",
       "  table, th, td {\n",
       "    border: 1px solid black;\n",
       "    border-collapse: collapse;\n",
       "  }\n",
       "  th, td {\n",
       "    padding: 5px;\n",
       "  }\n",
       "  th {\n",
       "    text-align: left;\n",
       "  }\n",
       "</style><div class='table-result-container'><table class='table-result'><thead style='background-color: white'><tr></tr></thead><tbody></tbody></table></div>"
      ]
     },
     "metadata": {
      "application/vnd.databricks.v1+output": {
       "addedWidgets": {},
       "aggData": [],
       "aggError": "",
       "aggOverflow": false,
       "aggSchema": [],
       "aggSeriesLimitReached": false,
       "aggType": "",
       "arguments": {},
       "columnCustomDisplayInfos": {},
       "data": [],
       "datasetInfos": [],
       "dbfsResultPath": null,
       "isJsonSchema": true,
       "metadata": {
        "dataframeName": null
       },
       "overflow": false,
       "plotOptions": {
        "customPlotOptions": {},
        "displayType": "table",
        "pivotAggregation": null,
        "pivotColumns": null,
        "xColumns": null,
        "yColumns": null
       },
       "removedWidgets": [],
       "schema": [],
       "type": "table"
      }
     },
     "output_type": "display_data"
    }
   ],
   "source": [
    "%sql\n",
    "--enabling property to update column name\n",
    "ALTER TABLE silver_riders SET TBLPROPERTIES (\n",
    "    'delta.minReaderVersion' = '2',\n",
    "    'delta.minWriterVersion' = '5',\n",
    "    'delta.columnMapping.mode' = 'name'\n",
    "  )"
   ]
  },
  {
   "cell_type": "code",
   "execution_count": 0,
   "metadata": {
    "application/vnd.databricks.v1+cell": {
     "cellMetadata": {
      "byteLimit": 2048000,
      "implicitDf": true,
      "rowLimit": 10000
     },
     "inputWidgets": {},
     "nuid": "5b1b5c8f-fa59-497f-bbd3-9568f4b195f2",
     "showTitle": false,
     "title": ""
    }
   },
   "outputs": [
    {
     "data": {
      "text/html": [
       "<style scoped>\n",
       "  .table-result-container {\n",
       "    max-height: 300px;\n",
       "    overflow: auto;\n",
       "  }\n",
       "  table, th, td {\n",
       "    border: 1px solid black;\n",
       "    border-collapse: collapse;\n",
       "  }\n",
       "  th, td {\n",
       "    padding: 5px;\n",
       "  }\n",
       "  th {\n",
       "    text-align: left;\n",
       "  }\n",
       "</style><div class='table-result-container'><table class='table-result'><thead style='background-color: white'><tr></tr></thead><tbody></tbody></table></div>"
      ]
     },
     "metadata": {
      "application/vnd.databricks.v1+output": {
       "addedWidgets": {},
       "aggData": [],
       "aggError": "",
       "aggOverflow": false,
       "aggSchema": [],
       "aggSeriesLimitReached": false,
       "aggType": "",
       "arguments": {},
       "columnCustomDisplayInfos": {},
       "data": [],
       "datasetInfos": [],
       "dbfsResultPath": null,
       "isJsonSchema": true,
       "metadata": {
        "dataframeName": null
       },
       "overflow": false,
       "plotOptions": {
        "customPlotOptions": {},
        "displayType": "table",
        "pivotAggregation": null,
        "pivotColumns": null,
        "xColumns": null,
        "yColumns": null
       },
       "removedWidgets": [],
       "schema": [],
       "type": "table"
      }
     },
     "output_type": "display_data"
    }
   ],
   "source": [
    "\n",
    "\n",
    "%sql\n",
    "--renaming default column names to reflect more descriptive, column names\n",
    "ALTER TABLE silver_riders \n",
    "RENAME COLUMN _c0 TO rider_id;\n",
    "\n",
    "ALTER TABLE silver_riders \n",
    "RENAME COLUMN _c1 TO first_name;\n",
    "\n",
    "ALTER TABLE silver_riders \n",
    "RENAME COLUMN _c2 TO last_name;\n",
    "\n",
    "ALTER TABLE silver_riders \n",
    "RENAME COLUMN _c3 TO address;\n",
    "\n",
    "ALTER TABLE silver_riders \n",
    "RENAME COLUMN _c4 TO birth_date;\n",
    "\n",
    "ALTER TABLE silver_riders \n",
    "RENAME COLUMN _c5 TO account_start_date;\n",
    "\n",
    "ALTER TABLE silver_riders \n",
    "RENAME COLUMN _c6 TO account_end_date;\n",
    "\n",
    "ALTER TABLE silver_riders \n",
    "RENAME COLUMN _c7 TO is_member;"
   ]
  },
  {
   "cell_type": "code",
   "execution_count": 0,
   "metadata": {
    "application/vnd.databricks.v1+cell": {
     "cellMetadata": {
      "byteLimit": 2048000,
      "rowLimit": 10000
     },
     "inputWidgets": {},
     "nuid": "e9463561-dc3b-4bfa-9e3b-18517daae769",
     "showTitle": false,
     "title": ""
    },
    "collapsed": true
   },
   "outputs": [
    {
     "name": "stdout",
     "output_type": "stream",
     "text": [
      "+---------+--------+----------+---------+----------+-------------+---------+------------------+----------------+-------------------+-------------------+\n",
      "|rider_key|rider_id|first_name|last_name|birth_date|rideable_type|is_member|account_start_date|account_end_date|    ride_start_date|      ride_end_date|\n",
      "+---------+--------+----------+---------+----------+-------------+---------+------------------+----------------+-------------------+-------------------+\n",
      "|     1000|    1000|     Diana|    Clark|1989-02-13|electric_bike|     True|        2019-04-23|            NULL|2021-11-02 23:20:29|2021-11-02 23:29:16|\n",
      "|     1000|    1000|     Diana|    Clark|1989-02-13|electric_bike|     True|        2019-04-23|            NULL|2021-09-21 21:53:21|2021-09-21 22:06:06|\n",
      "|     1000|    1000|     Diana|    Clark|1989-02-13|electric_bike|     True|        2019-04-23|            NULL|2021-09-02 10:44:06|2021-09-02 11:10:40|\n",
      "|     1000|    1000|     Diana|    Clark|1989-02-13| classic_bike|     True|        2019-04-23|            NULL|2021-11-10 21:05:34|2021-11-10 21:34:27|\n",
      "|     1000|    1000|     Diana|    Clark|1989-02-13|electric_bike|     True|        2019-04-23|            NULL|2021-05-16 12:18:53|2021-05-16 13:03:23|\n",
      "|     1000|    1000|     Diana|    Clark|1989-02-13| classic_bike|     True|        2019-04-23|            NULL|2021-06-09 15:46:18|2021-06-09 15:55:47|\n",
      "|     1000|    1000|     Diana|    Clark|1989-02-13| classic_bike|     True|        2019-04-23|            NULL|2021-08-18 14:46:49|2021-08-18 14:51:26|\n",
      "|     1000|    1000|     Diana|    Clark|1989-02-13|  docked_bike|     True|        2019-04-23|            NULL|2021-09-09 21:37:07|2021-09-09 22:08:42|\n",
      "|     1000|    1000|     Diana|    Clark|1989-02-13|  docked_bike|     True|        2019-04-23|            NULL|2021-11-21 01:42:09|2021-11-21 02:01:39|\n",
      "|     1000|    1000|     Diana|    Clark|1989-02-13| classic_bike|     True|        2019-04-23|            NULL|2021-08-06 19:54:16|2021-08-06 20:41:43|\n",
      "|     1000|    1000|     Diana|    Clark|1989-02-13| classic_bike|     True|        2019-04-23|            NULL|2021-07-08 15:57:02|2021-07-08 16:05:38|\n",
      "|     1000|    1000|     Diana|    Clark|1989-02-13| classic_bike|     True|        2019-04-23|            NULL|2021-04-03 14:20:48|2021-04-03 14:44:19|\n",
      "|     1000|    1000|     Diana|    Clark|1989-02-13| classic_bike|     True|        2019-04-23|            NULL|2021-04-10 23:24:14|2021-04-10 23:33:45|\n",
      "|     1000|    1000|     Diana|    Clark|1989-02-13| classic_bike|     True|        2019-04-23|            NULL|2021-10-12 00:34:49|2021-10-12 00:51:54|\n",
      "|     1000|    1000|     Diana|    Clark|1989-02-13| classic_bike|     True|        2019-04-23|            NULL|2021-07-28 20:38:57|2021-07-28 21:22:03|\n",
      "|     1000|    1000|     Diana|    Clark|1989-02-13|electric_bike|     True|        2019-04-23|            NULL|2021-08-07 12:48:10|2021-08-07 13:02:08|\n",
      "|     1000|    1000|     Diana|    Clark|1989-02-13|  docked_bike|     True|        2019-04-23|            NULL|2021-07-02 17:53:45|2021-07-02 18:08:43|\n",
      "|    10002|   10002|    Jeremy|  Mendoza|1998-06-12| classic_bike|     True|        2019-09-02|            NULL|2021-07-28 07:12:39|2021-07-28 07:18:34|\n",
      "|    10002|   10002|    Jeremy|  Mendoza|1998-06-12|electric_bike|     True|        2019-09-02|            NULL|2021-07-07 16:11:16|2021-07-07 16:21:36|\n",
      "|    10002|   10002|    Jeremy|  Mendoza|1998-06-12| classic_bike|     True|        2019-09-02|            NULL|2021-06-01 15:51:45|2021-06-01 15:58:43|\n",
      "+---------+--------+----------+---------+----------+-------------+---------+------------------+----------------+-------------------+-------------------+\n",
      "only showing top 20 rows\n",
      "\n"
     ]
    }
   ],
   "source": [
    "\n",
    "tripsTbl = spark.table(\"silver_trips\")\n",
    "ridersTbl = spark.table(\"silver_riders\")\n",
    "\n",
    "from pyspark.sql.functions import *\n",
    "dim_rider_df = ridersTbl.join(tripsTbl, ridersTbl.rider_id == tripsTbl.rider_id,\"inner\") \\\n",
    "    .select(ridersTbl[\"rider_id\"].alias(\"rider_key\"), ridersTbl[\"rider_id\"], ridersTbl[\"first_name\"], ridersTbl[\"last_name\"], ridersTbl[\"birth_date\"], tripsTbl[\"rideable_type\"], ridersTbl[\"is_member\"], ridersTbl[\"account_start_date\"], ridersTbl[\"account_end_date\"], tripsTbl[\"start_at\"].alias(\"ride_start_date\"), tripsTbl[\"ended_at\"].alias(\"ride_end_date\")).sort(\"rider_id\") \n",
    "                \n",
    "dim_rider_df.show()\n",
    "\n",
    "dim_rider_df.write.format(\"delta\") \\\n",
    "    .mode(\"overwrite\") \\\n",
    "    .saveAsTable(\"dim_riders\")"
   ]
  }
 ],
 "metadata": {
  "application/vnd.databricks.v1+notebook": {
   "dashboards": [],
   "language": "python",
   "notebookMetadata": {
    "mostRecentlyExecutedCommandWithImplicitDF": {
     "commandId": 3433443198657774,
     "dataframes": [
      "_sqldf"
     ]
    },
    "pythonIndentUnit": 4
   },
   "notebookName": "Udacity - Create Delta Lake Table Stages for Dimension Riders",
   "widgets": {}
  },
  "kernelspec": {
   "display_name": "Python 3",
   "language": "python",
   "name": "python3"
  },
  "language_info": {
   "codemirror_mode": {
    "name": "ipython",
    "version": 3
   },
   "file_extension": ".py",
   "mimetype": "text/x-python",
   "name": "python",
   "nbconvert_exporter": "python",
   "pygments_lexer": "ipython3",
   "version": "3.8.5"
  }
 },
 "nbformat": 4,
 "nbformat_minor": 1
}
